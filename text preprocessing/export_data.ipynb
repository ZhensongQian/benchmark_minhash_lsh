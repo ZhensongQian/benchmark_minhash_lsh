{
 "cells": [
  {
   "cell_type": "code",
   "execution_count": 1,
   "metadata": {
    "collapsed": true
   },
   "outputs": [],
   "source": [
    "import redis\n",
    "import pickle\n",
    "REDIS_NODE_ = \"ec2-50-112-43-106.us-west-2.compute.amazonaws.com\"\n",
    "PASSWORD_ = \"Lxs-@91q\"\n",
    "DB_LSH_BANDS = 5 \n",
    "DB_WORD_MAP = 9\n",
    "DB_TOP_1 = 10\n",
    "DB_INDEX_WORDS = 0"
   ]
  },
  {
   "cell_type": "code",
   "execution_count": 2,
   "metadata": {
    "collapsed": false
   },
   "outputs": [],
   "source": [
    "vec = sqlContext.read.load(\"s3a://redit-preprocessed/band_band_hash_groups_40010_\")\n",
    "vec = vec.map(lambda x:((x[0][0],x[0][1]),x[1]))"
   ]
  },
  {
   "cell_type": "code",
   "execution_count": 3,
   "metadata": {
    "collapsed": false
   },
   "outputs": [],
   "source": [
    "\n",
    "def exportLSH(rdd):\n",
    "    r_LSH = redis.StrictRedis(REDIS_NODE_,db=DB_LSH_BANDS,password=PASSWORD_)\n",
    "    \n",
    "    for item in rdd:\n",
    "        r_LSH.rpush(str(item[0]),*item[1])\n",
    "r_LSH = redis.StrictRedis(REDIS_NODE_,db=DB_LSH_BANDS,password=PASSWORD_)\n",
    "r_LSH.flushall()\n",
    "vec.foreachPartition(exportLSH)\n"
   ]
  },
  {
   "cell_type": "code",
   "execution_count": 4,
   "metadata": {
    "collapsed": false
   },
   "outputs": [
    {
     "name": "stdout",
     "output_type": "stream",
     "text": [
      "((4, -4754706498155953718), [232272, 225551])\n"
     ]
    }
   ],
   "source": [
    "print vec.first()"
   ]
  },
  {
   "cell_type": "code",
   "execution_count": 5,
   "metadata": {
    "collapsed": false
   },
   "outputs": [],
   "source": [
    "r_word_map = redis.StrictRedis(REDIS_NODE_,db=DB_WORD_MAP,password=PASSWORD_)\n",
    "dict_ = pickle.load(open( \"word_map.p\", 'r'))\n",
    "for k,v in dict_.items():\n",
    "    r_word_map.set(k,v)\n",
    "    \n"
   ]
  },
  {
   "cell_type": "code",
   "execution_count": 3,
   "metadata": {
    "collapsed": false
   },
   "outputs": [],
   "source": [
    "posts = sqlContext.read.load(\"s3a://redit-preprocessed/2015_1.parquet\")\n",
    "posts = posts.map(lambda x:{'index':x[0],'text':x[2]}).map(lambda x:dict(x))\n",
    "post_list = posts.take(1000000)\n",
    "\n",
    "import json"
   ]
  },
  {
   "cell_type": "code",
   "execution_count": 4,
   "metadata": {
    "collapsed": false
   },
   "outputs": [
    {
     "data": {
      "text/plain": [
       "{'index': 713341,\n",
       " 'text': [u'curiosity,',\n",
       "  u'common',\n",
       "  u'greetings',\n",
       "  u'phrases',\n",
       "  u'surrounding',\n",
       "  u'new',\n",
       "  u\"year's\",\n",
       "  u'eve/day',\n",
       "  u'japan?']}"
      ]
     },
     "execution_count": 4,
     "metadata": {},
     "output_type": "execute_result"
    }
   ],
   "source": [
    "post_list[0]"
   ]
  },
  {
   "cell_type": "code",
   "execution_count": 6,
   "metadata": {
    "collapsed": true
   },
   "outputs": [],
   "source": [
    "import json\n",
    "import os\n",
    "def append_record(record):\n",
    "    with open('2015_1_posts_.json', 'a') as f:\n",
    "        json.dump(record, f)\n",
    "        f.write(os.linesep)\n",
    "\n",
    "# demonstrate a program writing multiple records\n",
    "for post_ in post_list:\n",
    "    append_record(post_)"
   ]
  },
  {
   "cell_type": "code",
   "execution_count": 7,
   "metadata": {
    "collapsed": true
   },
   "outputs": [],
   "source": [
    "my_list = []\n",
    "with open('2015_1_posts_.json') as f:\n",
    "    my_list = [json.loads(line) for line in f]"
   ]
  },
  {
   "cell_type": "code",
   "execution_count": 38,
   "metadata": {
    "collapsed": false
   },
   "outputs": [
    {
     "data": {
      "text/plain": [
       "{u'index': 1943099,\n",
       " u'text': [u'installed',\n",
       "  u'finished',\n",
       "  u'mc',\n",
       "  u'escher',\n",
       "  u'floor.(x-post',\n",
       "  u'r/woodworking)']}"
      ]
     },
     "execution_count": 38,
     "metadata": {},
     "output_type": "execute_result"
    }
   ],
   "source": []
  },
  {
   "cell_type": "code",
   "execution_count": 10,
   "metadata": {
    "collapsed": false
   },
   "outputs": [
    {
     "data": {
      "text/plain": [
       "{u'index': 820136, u'text': [u'3700']}"
      ]
     },
     "execution_count": 10,
     "metadata": {},
     "output_type": "execute_result"
    }
   ],
   "source": [
    "my_list[2]"
   ]
  },
  {
   "cell_type": "code",
   "execution_count": null,
   "metadata": {
    "collapsed": true
   },
   "outputs": [],
   "source": []
  }
 ],
 "metadata": {
  "kernelspec": {
   "display_name": "Python 2",
   "language": "python",
   "name": "python2"
  },
  "language_info": {
   "codemirror_mode": {
    "name": "ipython",
    "version": 2
   },
   "file_extension": ".py",
   "mimetype": "text/x-python",
   "name": "python",
   "nbconvert_exporter": "python",
   "pygments_lexer": "ipython2",
   "version": "2.7.6"
  }
 },
 "nbformat": 4,
 "nbformat_minor": 0
}
